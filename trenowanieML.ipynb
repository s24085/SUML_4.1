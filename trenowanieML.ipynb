{
 "cells": [
  {
   "cell_type": "markdown",
   "id": "7a96f4da",
   "metadata": {},
   "source": [
    "### 1. Import bibliotek"
   ]
  },
  {
   "cell_type": "code",
   "execution_count": 3,
   "id": "tribal-advertising",
   "metadata": {},
   "outputs": [],
   "source": [
    "import pandas as pd\n",
    "from sklearn.preprocessing import LabelEncoder\n",
    "from sklearn.model_selection import train_test_split\n",
    "from sklearn.ensemble import RandomForestClassifier\n",
    "import pickle"
   ]
  },
  {
   "cell_type": "markdown",
   "id": "2feb2c32",
   "metadata": {},
   "source": [
    "### 2. Przygotowanie modelu"
   ]
  },
  {
   "cell_type": "markdown",
   "id": "3d449777",
   "metadata": {},
   "source": [
    "Wykorzystamy kod z poprzednich zajęć do wytrenowania modelu szacującego zmienną \"survived\""
   ]
  },
  {
   "cell_type": "code",
   "execution_count": 4,
   "id": "forced-reporter",
   "metadata": {},
   "outputs": [
    {
     "name": "stdout",
     "output_type": "stream",
     "text": [
      "Random Forest: 0.980309423347398\n"
     ]
    }
   ],
   "source": [
    "base_data = pd.read_csv(\"DSP_1.csv\")\n",
    "base_data.columns\n",
    "\n",
    "cols = [\"Survived\", \"Pclass\", \"Sex\", \"Age\", \"SibSp\", \"Parch\", \"Fare\", \"Embarked\"]\n",
    "data = base_data[cols].copy()\n",
    "\n",
    "data[\"Age\"] = data[\"Age\"].fillna((data[\"Age\"].mean())) # wypełni nam brakujące informacje średnią\n",
    "data = data.dropna(subset=['Embarked'])\n",
    "\n",
    "encoder = LabelEncoder()\n",
    "data.loc[:,\"Sex\"] = encoder.fit_transform(data.loc[:,\"Sex\"])\n",
    "data.loc[:,\"Embarked\"] = encoder.fit_transform(data.loc[:,\"Embarked\"])\n",
    "\n",
    "y = data.iloc[:,0]\n",
    "x = data.iloc[:,1:8]\n",
    "X_train, X_test, y_train, y_test = train_test_split(x, y, test_size = 0.2, random_state = 0)\n",
    "\n",
    "def model(X_train, y_train):\n",
    "    \n",
    "    forest = RandomForestClassifier (n_estimators=20, random_state=0)\n",
    "    forest.fit(X_train,y_train)\n",
    "    print(\"Random Forest: {0}\".format(forest.score(X_train,y_train)))\n",
    "    \n",
    "    return forest\n",
    "\n",
    "forest = model(X_train,y_train)"
   ]
  },
  {
   "cell_type": "code",
   "execution_count": 5,
   "id": "d5b1af80",
   "metadata": {},
   "outputs": [
    {
     "name": "stdout",
     "output_type": "stream",
     "text": [
      "[0]\n",
      "[1]\n"
     ]
    },
    {
     "name": "stderr",
     "output_type": "stream",
     "text": [
      "/home/bart/anaconda3/envs/SUML/lib/python3.9/site-packages/sklearn/base.py:439: UserWarning: X does not have valid feature names, but RandomForestClassifier was fitted with feature names\n",
      "  warnings.warn(\n",
      "/home/bart/anaconda3/envs/SUML/lib/python3.9/site-packages/sklearn/base.py:439: UserWarning: X does not have valid feature names, but RandomForestClassifier was fitted with feature names\n",
      "  warnings.warn(\n"
     ]
    }
   ],
   "source": [
    "# Dane wejściowe jako DataFrame z odpowiednimi nazwami kolumn\n",
    "columns = [\"Pclass\", \"Sex\", \"Age\", \"SibSp\", \"Parch\", \"Fare\", \"Embarked\"]\n",
    "\n",
    "my_data =[\n",
    "            [\n",
    "             1,  #\"Pclass\"\n",
    "             1,  #\"Sex\", Sex 0 = Female, 1 = Male\n",
    "             50,  #\"Age\", Age\n",
    "             0,  #\"SibSp\"\n",
    "             0,  #\"Parch\"\n",
    "             0,  #\"Fare\", \n",
    "             2,  #\"Embarked\"\n",
    "    ]\n",
    "]\n",
    "\n",
    "print(forest.predict(my_data))\n",
    "\n",
    "my_data =[\n",
    "            [\n",
    "             1,  #\"Pclass\"\n",
    "             0,  #\"Sex\", Sex 0 = Female, 1 = Male\n",
    "             20,  #\"Age\", Age\n",
    "             1,  #\"SibSp\"\n",
    "             0,  #\"Parch\"\n",
    "             0,  #\"Fare\", \n",
    "             2,  #\"Embarked\"\n",
    "    ]\n",
    "]\n",
    "\n",
    "print(forest.predict(my_data))"
   ]
  },
  {
   "cell_type": "markdown",
   "id": "53d1e31a",
   "metadata": {},
   "source": [
    "Teraz jesteśmy gotowi do wyeksportowania naszego modelu do .pkl"
   ]
  },
  {
   "cell_type": "code",
   "execution_count": 12,
   "id": "8f6efed7",
   "metadata": {},
   "outputs": [],
   "source": [
    "filename = \"model.sv\"\n",
    "pickle.dump(forest, open(filename,'wb'))"
   ]
  },
  {
   "cell_type": "markdown",
   "id": "9047beea",
   "metadata": {},
   "source": [
    "Dalszą część pracy wykonujemy już poza Jupyter Notebook. Przenosimy się do pliku app.py."
   ]
  },
  {
   "cell_type": "code",
   "execution_count": null,
   "id": "849c5b87-6d1e-4333-87cc-db55150cbe07",
   "metadata": {},
   "outputs": [],
   "source": []
  }
 ],
 "metadata": {
  "kernelspec": {
   "display_name": "Python 3 (ipykernel)",
   "language": "python",
   "name": "python3"
  },
  "language_info": {
   "codemirror_mode": {
    "name": "ipython",
    "version": 3
   },
   "file_extension": ".py",
   "mimetype": "text/x-python",
   "name": "python",
   "nbconvert_exporter": "python",
   "pygments_lexer": "ipython3",
   "version": "3.9.20"
  }
 },
 "nbformat": 4,
 "nbformat_minor": 5
}
